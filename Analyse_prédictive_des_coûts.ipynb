{
  "nbformat": 4,
  "nbformat_minor": 0,
  "metadata": {
    "colab": {
      "provenance": []
    },
    "kernelspec": {
      "name": "python3",
      "display_name": "Python 3"
    },
    "language_info": {
      "name": "python"
    }
  },
  "cells": [
    {
      "cell_type": "markdown",
      "source": [
        "# **Analyse Prédictive des Coûts**\n"
      ],
      "metadata": {
        "id": "6vCQG2vDpukN"
      }
    },
    {
      "cell_type": "markdown",
      "source": [
        "# Étape 1 : Charger et Explorer les Données\n"
      ],
      "metadata": {
        "id": "wu5trXt-k8EA"
      }
    },
    {
      "cell_type": "code",
      "execution_count": 1,
      "metadata": {
        "colab": {
          "base_uri": "https://localhost:8080/"
        },
        "id": "zJ1xw0s4jp8X",
        "outputId": "a6f5d562-922b-46f8-ebcc-3203ba78d8ec"
      },
      "outputs": [
        {
          "output_type": "stream",
          "name": "stdout",
          "text": [
            "         DATE                                       PRESTATIONS      MT   \\\n",
            "0  2020-08-13         Tirage plans  architecturale ( 3 copies )     24.0   \n",
            "1  2020-09-03           Gagoil  pour ouverture chantier  2 fois    520.0   \n",
            "2  2020-09-22                                  Gasoil berlingo     350.0   \n",
            "3  2020-09-30                                  Gasoil berlingo     340.0   \n",
            "4  2020-10-06  ACHAT 28 SACS DE CPJ 45 ET 4 mangan pour pioches   2200.0   \n",
            "\n",
            "     MODE DE REGLEMENT  \n",
            "0                  ESP  \n",
            "1                  ESP  \n",
            "2                  ESP  \n",
            "3                  ESP  \n",
            "4  CHQ  N° AAY 6208916  \n"
          ]
        }
      ],
      "source": [
        "import pandas as pd\n",
        "\n",
        "# Charger le fichier de données nettoyées\n",
        "data_cleaned = pd.read_csv('data_cleaned.csv')\n",
        "\n",
        "# Afficher les premières lignes du dataset pour comprendre sa structure\n",
        "print(data_cleaned.head())"
      ]
    },
    {
      "cell_type": "markdown",
      "source": [
        "# Étape 2 : Sélection des Variables et Création de Caractéristiques"
      ],
      "metadata": {
        "id": "VGbPyWizlhCq"
      }
    },
    {
      "cell_type": "code",
      "source": [
        "# Extraire le mois et l'année de la colonne 'DATE'\n",
        "data_cleaned['Month'] = pd.to_datetime(data_cleaned['DATE']).dt.month\n",
        "data_cleaned['Year'] = pd.to_datetime(data_cleaned['DATE']).dt.year\n",
        "\n",
        "# Afficher les nouvelles colonnes pour vérifier\n",
        "print(data_cleaned.head())"
      ],
      "metadata": {
        "colab": {
          "base_uri": "https://localhost:8080/"
        },
        "id": "bX2nnpqDliiA",
        "outputId": "6f9b5230-69a4-4900-8b66-fa698f24dbed"
      },
      "execution_count": 2,
      "outputs": [
        {
          "output_type": "stream",
          "name": "stdout",
          "text": [
            "         DATE                                       PRESTATIONS      MT   \\\n",
            "0  2020-08-13         Tirage plans  architecturale ( 3 copies )     24.0   \n",
            "1  2020-09-03           Gagoil  pour ouverture chantier  2 fois    520.0   \n",
            "2  2020-09-22                                  Gasoil berlingo     350.0   \n",
            "3  2020-09-30                                  Gasoil berlingo     340.0   \n",
            "4  2020-10-06  ACHAT 28 SACS DE CPJ 45 ET 4 mangan pour pioches   2200.0   \n",
            "\n",
            "     MODE DE REGLEMENT  Month  Year  \n",
            "0                  ESP      8  2020  \n",
            "1                  ESP      9  2020  \n",
            "2                  ESP      9  2020  \n",
            "3                  ESP      9  2020  \n",
            "4  CHQ  N° AAY 6208916     10  2020  \n"
          ]
        }
      ]
    },
    {
      "cell_type": "markdown",
      "source": [
        "# Étape 3 : Division des Données en Ensembles d'Entraînement et de Test"
      ],
      "metadata": {
        "id": "lnPoB1_imNqm"
      }
    },
    {
      "cell_type": "code",
      "source": [
        "from sklearn.model_selection import train_test_split\n",
        "\n",
        "# Sélectionner les variables d'entrée (features) et la cible (target)\n",
        "X = data_cleaned[['Month', 'Year']]  # Nous utilisons le mois et l'année comme caractéristiques\n",
        "y = data_cleaned['MT ']  # Le montant est notre cible à prédire\n",
        "\n",
        "# Diviser les données en ensemble d'entraînement et de test\n",
        "X_train, X_test, y_train, y_test = train_test_split(X, y, test_size=0.2, random_state=42)\n",
        "\n",
        "# Afficher la forme des ensembles d'entraînement et de test pour vérification\n",
        "print(X_train.shape, X_test.shape, y_train.shape, y_test.shape)\n"
      ],
      "metadata": {
        "colab": {
          "base_uri": "https://localhost:8080/"
        },
        "id": "Jk_TSqTGmQlK",
        "outputId": "7e64161d-cdf2-4b5b-e400-8917b6b6ac00"
      },
      "execution_count": 4,
      "outputs": [
        {
          "output_type": "stream",
          "name": "stdout",
          "text": [
            "(10, 2) (3, 2) (10,) (3,)\n"
          ]
        }
      ]
    },
    {
      "cell_type": "markdown",
      "source": [
        "# Étape 4 : Entraînement du Modèle de Régression Linéaire"
      ],
      "metadata": {
        "id": "JLtDbG2Rm92C"
      }
    },
    {
      "cell_type": "code",
      "source": [
        "from sklearn.linear_model import LinearRegression\n",
        "from sklearn.metrics import mean_squared_error, r2_score\n",
        "\n",
        "# Créer et entraîner le modèle de régression linéaire\n",
        "model = LinearRegression()\n",
        "model.fit(X_train, y_train)\n",
        "\n",
        "# Faire des prédictions sur l'ensemble de test\n",
        "y_pred = model.predict(X_test)\n",
        "\n",
        "# Évaluer le modèle\n",
        "mse = mean_squared_error(y_test, y_pred)\n",
        "r2 = r2_score(y_test, y_pred)\n",
        "\n",
        "print(f\"Erreur quadratique moyenne (MSE) : {mse}\")\n",
        "print(f\"Coefficient de détermination R² : {r2}\")\n"
      ],
      "metadata": {
        "colab": {
          "base_uri": "https://localhost:8080/"
        },
        "id": "iC3pvxIKm_g2",
        "outputId": "03e508eb-0126-4c55-e9e1-5a2c98c64b89"
      },
      "execution_count": 5,
      "outputs": [
        {
          "output_type": "stream",
          "name": "stdout",
          "text": [
            "Erreur quadratique moyenne (MSE) : 39123305.94863451\n",
            "Coefficient de détermination R² : -1168.6677237046667\n"
          ]
        }
      ]
    },
    {
      "cell_type": "markdown",
      "source": [
        "# ***`Interprétation :`***\n",
        "Performance du modèle : Les résultats montrent que le modèle de régression linéaire simple basé uniquement sur le mois et l'année ne parvient pas à bien prédire les coûts. Cela peut être dû à plusieurs raisons :\n",
        "Les caractéristiques (variables explicatives) utilisées ne sont pas suffisantes pour capturer la complexité des coûts.\n",
        "Il est possible que les coûts ne suivent pas une relation linéaire simple par rapport au mois et à l'année.\n",
        "Le nombre limité de données rend difficile l'entraînement d'un modèle performant.\n",
        "On peut Si possible, enrichir le modèle avec d'autres variables explicatives qui pourraient mieux capturer les variations des coûts. Par exemple, inclure des informations supplémentaires sur les types de prestations ou d'autres indicateurs temporels comme les trimestres ou les saisons. Ou bien essayer un autre modèle comme les forêts aléatoires (Random Forest) ou K-Nearest Neighbors (KNN) pourraient mieux capturer les relations non linéaires entre les variables."
      ],
      "metadata": {
        "id": "r63_obFfntl-"
      }
    },
    {
      "cell_type": "markdown",
      "source": [
        "# Etape 5 : Entraînement du Modèle de Forêt Aléatoire"
      ],
      "metadata": {
        "id": "X9-9g7gsofXQ"
      }
    },
    {
      "cell_type": "code",
      "source": [
        "from sklearn.ensemble import RandomForestRegressor\n",
        "from sklearn.metrics import mean_squared_error, r2_score\n",
        "\n",
        "# Créer et entraîner le modèle de forêt aléatoire\n",
        "rf_model = RandomForestRegressor(n_estimators=100, random_state=42)\n",
        "rf_model.fit(X_train, y_train)\n",
        "\n",
        "# Faire des prédictions sur l'ensemble de test\n",
        "y_pred_rf = rf_model.predict(X_test)\n",
        "\n",
        "# Évaluer le modèle\n",
        "mse_rf = mean_squared_error(y_test, y_pred_rf)\n",
        "r2_rf = r2_score(y_test, y_pred_rf)\n",
        "\n",
        "print(f\"Erreur quadratique moyenne (Random Forest): {mse_rf}\")\n",
        "print(f\"Coefficient de détermination R² (Random Forest): {r2_rf}\")\n"
      ],
      "metadata": {
        "colab": {
          "base_uri": "https://localhost:8080/"
        },
        "id": "ciOvqQFwnxcb",
        "outputId": "550b6842-efad-4112-e03b-ecd58581193d"
      },
      "execution_count": 6,
      "outputs": [
        {
          "output_type": "stream",
          "name": "stdout",
          "text": [
            "Erreur quadratique moyenne (Random Forest): 49534846.44349592\n",
            "Coefficient de détermination R² (Random Forest): -1479.9410830386712\n"
          ]
        }
      ]
    },
    {
      "cell_type": "markdown",
      "source": [
        "# ***`Interprétation :`***\n",
        "Les performances du modèle indiquent que, avec les données actuelles, les relations entre les variables ne sont pas suffisamment bien capturées pour faire des prédictions préc\n",
        "ises des coûts. Cela peut signifier que les données actuelles sont trop limitées en volume ou en information pour permettre une analyse prédictive fiable."
      ],
      "metadata": {
        "id": "3xV5THn7pMLS"
      }
    },
    {
      "cell_type": "code",
      "source": [],
      "metadata": {
        "id": "MFcPxUEFprz-"
      },
      "execution_count": null,
      "outputs": []
    }
  ]
}